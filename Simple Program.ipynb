{
 "cells": [
  {
   "cell_type": "code",
   "execution_count": 14,
   "metadata": {},
   "outputs": [
    {
     "name": "stdin",
     "output_type": "stream",
     "text": [
      "Enter a name: Tyler\n",
      "Enter a number: 6\n",
      "Enter a second number: 3\n"
     ]
    },
    {
     "name": "stdout",
     "output_type": "stream",
     "text": [
      "Your name is: Tyler\n",
      "The number you entered was: 6\n",
      "The second number you entered was: 3\n",
      "\n",
      "Here is some arithmetic performed with the two numbers you have entered, Tyler!\n",
      "6 + 3 = 9\n",
      "6 - 3 = 3\n",
      "3 - 6 = -3\n",
      "6 * 3 = 18\n",
      "6 / 3 = 2.0\n",
      "3 / 6 = 0.5\n"
     ]
    }
   ],
   "source": [
    "# Getting input from user.\n",
    "name = input(\"Enter a name:\")\n",
    "num = input(\"Enter a number:\")\n",
    "num2 = input(\"Enter a second number:\")\n",
    "\n",
    "# Printing general information from user\n",
    "print(\"Your name is: \" + name)\n",
    "print(\"The number you entered was: \" + num)\n",
    "print(\"The second number you entered was: \" + num2)\n",
    "\n",
    "# Arithmetic Performance\n",
    "print(\"\\nHere is some arithmetic performed with the two numbers you have entered, \" + name + \"!\")\n",
    "print(\"\" + num + \" + \" + num2 + \" = \" + str((int(num)+int(num2))))\n",
    "print(\"\" + num + \" - \" + num2 + \" = \" + str((int(num)-int(num2))))\n",
    "print(\"\" + num2 + \" - \" + num + \" = \" + str((int(num2)-int(num))))\n",
    "print(\"\" + num + \" * \" + num2 + \" = \" + str((int(num)*int(num2))))\n",
    "print(\"\" + num + \" / \" + num2 + \" = \" + str((int(num)/int(num2))))\n",
    "print(\"\" + num2 + \" / \" + num + \" = \" + str((int(num2)/int(num))))"
   ]
  },
  {
   "cell_type": "code",
   "execution_count": null,
   "metadata": {},
   "outputs": [],
   "source": []
  }
 ],
 "metadata": {
  "kernelspec": {
   "display_name": "Python 3",
   "language": "python",
   "name": "python3"
  },
  "language_info": {
   "codemirror_mode": {
    "name": "ipython",
    "version": 3
   },
   "file_extension": ".py",
   "mimetype": "text/x-python",
   "name": "python",
   "nbconvert_exporter": "python",
   "pygments_lexer": "ipython3",
   "version": "3.6.7"
  }
 },
 "nbformat": 4,
 "nbformat_minor": 4
}
